{
 "cells": [
  {
   "cell_type": "code",
   "execution_count": 2,
   "metadata": {},
   "outputs": [],
   "source": [
    "import autograd.numpy as np\n",
    "import pandas as pd\n",
    "import autograd as ag\n",
    "import os"
   ]
  },
  {
   "cell_type": "markdown",
   "metadata": {},
   "source": [
    "# Generate data from 2D simulator\n",
    "\n",
    "This notebook generates data from the 2D simulator presented in Section 3.2.1, emulating the data that can be generated from a computationally demanding computer simulator for some social or physical process of interest."
   ]
  },
  {
   "cell_type": "code",
   "execution_count": 3,
   "metadata": {},
   "outputs": [],
   "source": [
    "nInputDim = 2\n",
    "nOutputDim = 1\n",
    "priorMin = 0 \n",
    "priorMax = 15\n",
    "phi = 0.1 \n",
    "alpha = 5 \n",
    "T = 10 "
   ]
  },
  {
   "cell_type": "code",
   "execution_count": 4,
   "metadata": {},
   "outputs": [],
   "source": [
    "# Toy 2D simulator\n",
    "def modelAlg(inputs, phi, alpha, t):\n",
    "\n",
    "    mainAlg = np.cos((inputs[0]-t-alpha)*phi) * np.cos((inputs[1]-t-alpha)*phi)\n",
    "    measurement = mainAlg ** 2 # Why squared? \n",
    "\n",
    "    return measurement"
   ]
  },
  {
   "cell_type": "code",
   "execution_count": 5,
   "metadata": {},
   "outputs": [],
   "source": [
    "modelAlg_autograd = ag.grad(modelAlg)"
   ]
  },
  {
   "cell_type": "code",
   "execution_count": 89,
   "metadata": {},
   "outputs": [],
   "source": [
    "def gen_dataset(n):\n",
    "    priorSamples = np.random.uniform(priorMin,priorMax,(n, nInputDim))\n",
    "\n",
    "    synPureData = []\n",
    "    synNoisyData = []\n",
    "    synInputs = []\n",
    "    synInputs.append(priorSamples[:,0].tolist())\n",
    "    synInputs.append(priorSamples[:,1].tolist())\n",
    "    l = [[i,i] for i in range(T)];\n",
    "    l_flat = [item for l in l for item in l]\n",
    "    cols = [np.array(l_flat), np.array(list(range(nInputDim)) * T)]\n",
    "    synPureData_grad = pd.DataFrame(index=range(n), columns=cols)\n",
    "    \n",
    "    for t in range(1, T + 1):\n",
    "        obs = []\n",
    "        obs_grad = []\n",
    "        obsNoisy = []\n",
    "        for ind in range(n):\n",
    "            tempValue = modelAlg(priorSamples[ind,:], phi, alpha, t)\n",
    "            tempValue_grad = modelAlg_autograd(priorSamples[ind,:], phi, alpha, t)\n",
    "            obs.append(tempValue)\n",
    "            for i in range(nInputDim):\n",
    "                synPureData_grad.loc[ind, (t-1, i)] = tempValue_grad[i]\n",
    "\n",
    "\n",
    "        synPureData.append(obs)\n",
    "        \n",
    "\n",
    "    # Inputs, Noise free and noisy data\n",
    "    synInputs = pd.DataFrame(synInputs).transpose()\n",
    "    synPureData = pd.DataFrame(synPureData).transpose()\n",
    "    \n",
    "    \n",
    "    return synInputs, synPureData, synPureData_grad"
   ]
  },
  {
   "cell_type": "code",
   "execution_count": 90,
   "metadata": {},
   "outputs": [],
   "source": [
    "x_train, y_train, y_train_grad = gen_dataset(1000)\n",
    "x_test, y_test, y_test_grad = gen_dataset(1000)"
   ]
  },
  {
   "cell_type": "code",
   "execution_count": 92,
   "metadata": {},
   "outputs": [],
   "source": [
    "#os.makedirs('data')\n",
    "# Save data\n",
    "# x_train.to_csv('data/x_train.csv')\n",
    "# y_train.to_csv('data/y_train.csv')\n",
    "# y_train_grad.to_csv('data/y_train_grad.csv')\n",
    "# x_test.to_csv('data/x_test.csv')\n",
    "# y_test.to_csv('data/y_test.csv')\n",
    "# y_test_grad.to_csv('data/y_test_grad.csv')"
   ]
  }
 ],
 "metadata": {
  "kernelspec": {
   "display_name": "Python 3",
   "language": "python",
   "name": "python3"
  },
  "language_info": {
   "codemirror_mode": {
    "name": "ipython",
    "version": 3
   },
   "file_extension": ".py",
   "mimetype": "text/x-python",
   "name": "python",
   "nbconvert_exporter": "python",
   "pygments_lexer": "ipython3",
   "version": "3.8.5"
  },
  "toc": {
   "base_numbering": 1,
   "nav_menu": {},
   "number_sections": true,
   "sideBar": true,
   "skip_h1_title": false,
   "title_cell": "Table of Contents",
   "title_sidebar": "Contents",
   "toc_cell": false,
   "toc_position": {},
   "toc_section_display": true,
   "toc_window_display": false
  }
 },
 "nbformat": 4,
 "nbformat_minor": 4
}
