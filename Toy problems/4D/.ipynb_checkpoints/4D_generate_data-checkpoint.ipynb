{
 "cells": [
  {
   "cell_type": "code",
   "execution_count": 15,
   "metadata": {},
   "outputs": [],
   "source": [
    "import autograd.numpy as np\n",
    "import pandas as pd\n",
    "import autograd as ag\n",
    "import os\n",
    "from tqdm.notebook import tqdm\n",
    "import yfinance as yf"
   ]
  },
  {
   "cell_type": "markdown",
   "metadata": {},
   "source": [
    "# Generate data from 4D GARACH process\n",
    "\n",
    "This notebook generates data from the 4D simulator presented in Section 3.3.1, emulating the data that can be generated from a GARCH(1,1) process."
   ]
  },
  {
   "cell_type": "code",
   "execution_count": 1,
   "metadata": {},
   "outputs": [],
   "source": [
    "# ticker = '^GSPC'\n",
    "# start = '2015-12-31'\n",
    "# end = '2021-06-25'\n",
    "# #downloading data\n",
    "# prices = yf.download(ticker, start, end)['Close']\n",
    "# #calculating returns\n",
    "# returns = (np.array(prices)[1:]/np.array(prices)[:-1] - 1) * 100"
   ]
  },
  {
   "cell_type": "code",
   "execution_count": 51,
   "metadata": {},
   "outputs": [],
   "source": [
    "nInputDim = 4 # Latent parameters\n",
    "nOutputDim = 1 # Vol output\n",
    "T = 5 # Future window range\n",
    "forecast_window = range(1, T + 1)\n",
    "# Latent params will be sampled from unifrom prior\n",
    "latent_priorMin = 0\n",
    "latent_priorMax = 1 \n",
    "\n",
    "# Vol prior informed by domain knowledge (Gamma)\n",
    "vol_prior_shape = 0.5 \n",
    "vol_prior_scale = 1.5\n",
    "\n",
    "# Returns prior infomred by domain knowledge (Normal)\n",
    "prev_ret_prior_mean = 0.1\n",
    "prev_ret_prior_std = 3"
   ]
  },
  {
   "cell_type": "code",
   "execution_count": 52,
   "metadata": {},
   "outputs": [],
   "source": [
    "# GARCH (1,1) process that only returns conditional stds\n",
    "def garch(params, conditional, ret, t, prev_sigma=None):\n",
    "    \n",
    "    # Explicity define parameters\n",
    "    mu = params[0]\n",
    "    omega = params[1]\n",
    "    alpha = params[2]\n",
    "    beta = params[3]\n",
    "    \n",
    "    resid = ret - mu\n",
    "    \n",
    "    if t == 1:\n",
    "        sigma2 = omega + alpha * resid**2 + beta * conditional ** 2\n",
    "    else: \n",
    "        sigma2 = omega + (alpha + beta) * prev_sigma ** 2\n",
    "        \n",
    "    return sigma2 ** 0.5"
   ]
  },
  {
   "cell_type": "code",
   "execution_count": 53,
   "metadata": {},
   "outputs": [],
   "source": [
    "garch_agrad = ag.grad(garch)"
   ]
  },
  {
   "cell_type": "code",
   "execution_count": 54,
   "metadata": {},
   "outputs": [],
   "source": [
    "def gen_dataset(n):\n",
    "    priorSamples_latent = np.random.uniform(latent_priorMin, latent_priorMax, (n, nInputDim))\n",
    "    prev_vol_samples = np.random.gamma(shape=vol_prior_shape, scale=vol_prior_scale, size=(n, 1))\n",
    "    prev_ret_samples = np.random.normal(loc=prev_ret_prior_mean, scale=prev_ret_prior_std, size=(n, 1))\n",
    "\n",
    "    synOutputs = []\n",
    "\n",
    "    l = [[i,i,i,i] for i in forecast_window];\n",
    "    l_flat = [item for l in l for item in l]\n",
    "    cols = [np.array(l_flat), np.array(list(range(nInputDim)) * T)]\n",
    "    synPureData_grad = pd.DataFrame(index=range(n), columns=cols)\n",
    "    for t in forecast_window:\n",
    "        temp_out = []\n",
    "        if t == 1:\n",
    "            for s in range(n):\n",
    "                val = garch(priorSamples_latent[s, :], prev_vol_samples[s], prev_ret_samples[s], t)\n",
    "                val_grad = garch_agrad(priorSamples_latent[s, :], prev_vol_samples[s], prev_ret_samples[s], t)\n",
    "                temp_out.append(float(val))\n",
    "                for i in range(nInputDim):\n",
    "                    synPureData_grad.loc[s, (t, i)] = val_grad[i]\n",
    "        else:\n",
    "            for s in range(n):\n",
    "                val = garch(priorSamples_latent[s, :], prev_vol_samples[s], prev_ret_samples[s], t, synOutputs[t-2][s])\n",
    "                val_grad = garch_agrad(priorSamples_latent[s, :], prev_vol_samples[s], prev_ret_samples[s], t, synOutputs[t-2][s])\n",
    "                temp_out.append(float(val))\n",
    "                for i in range(nInputDim):\n",
    "                    synPureData_grad.loc[s, (t, i)] = val_grad[i]\n",
    "                    \n",
    "        synOutputs.append(temp_out)\n",
    "    synPureData = pd.DataFrame(synOutputs).T \n",
    "    synPureData.columns  = forecast_window\n",
    "    synInputs_latent = []\n",
    "    for i in range(nInputDim):\n",
    "        synInputs_latent.append(priorSamples_latent[:,i].tolist())\n",
    "\n",
    "    synInputs_latent = pd.DataFrame(synInputs_latent).T \n",
    "    prev_vol_samples = pd.DataFrame(prev_vol_samples)\n",
    "    prev_ret_samples = pd.DataFrame(prev_ret_samples)\n",
    "    \n",
    "    return synInputs_latent, prev_vol_samples, prev_ret_samples, synPureData, synPureData_grad"
   ]
  },
  {
   "cell_type": "code",
   "execution_count": 55,
   "metadata": {},
   "outputs": [],
   "source": [
    "x_train_latent, x_train_vol, x_train_ret, y_train, y_train_grad = gen_dataset(1000)\n",
    "x_test_latent, x_test_vol, x_test_ret, y_test, y_test_grad = gen_dataset(1000)"
   ]
  },
  {
   "cell_type": "code",
   "execution_count": 60,
   "metadata": {},
   "outputs": [],
   "source": [
    "# #os.makedirs('data')\n",
    "# # Save data\n",
    "# x_train_latent.to_csv('data/t5/x_train_latent.csv')\n",
    "# x_train_vol.to_csv('data/t5/x_train_vol.csv')\n",
    "# x_train_ret.to_csv('data/t5/x_train_ret.csv')\n",
    "# y_train.to_csv('data/t5/y_train.csv')\n",
    "# y_train_grad.to_csv('data/t5/y_train_grad.csv')\n",
    "\n",
    "# x_test_latent.to_csv('data/t5/x_test_latent.csv')\n",
    "# x_test_vol.to_csv('data/t5/x_test_vol.csv')\n",
    "# x_test_ret.to_csv('data/t5/x_test_ret.csv')\n",
    "# y_test.to_csv('data/t5/y_test.csv')\n",
    "# y_test_grad.to_csv('data/t5/y_test_grad.csv')"
   ]
  }
 ],
 "metadata": {
  "kernelspec": {
   "display_name": "Python 3",
   "language": "python",
   "name": "python3"
  },
  "language_info": {
   "codemirror_mode": {
    "name": "ipython",
    "version": 3
   },
   "file_extension": ".py",
   "mimetype": "text/x-python",
   "name": "python",
   "nbconvert_exporter": "python",
   "pygments_lexer": "ipython3",
   "version": "3.8.5"
  },
  "toc": {
   "base_numbering": 1,
   "nav_menu": {},
   "number_sections": true,
   "sideBar": true,
   "skip_h1_title": false,
   "title_cell": "Table of Contents",
   "title_sidebar": "Contents",
   "toc_cell": false,
   "toc_position": {},
   "toc_section_display": true,
   "toc_window_display": false
  }
 },
 "nbformat": 4,
 "nbformat_minor": 4
}
