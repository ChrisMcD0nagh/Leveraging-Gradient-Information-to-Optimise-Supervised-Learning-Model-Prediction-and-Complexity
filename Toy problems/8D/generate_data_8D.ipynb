{
 "cells": [
  {
   "cell_type": "code",
   "execution_count": 1,
   "metadata": {},
   "outputs": [],
   "source": [
    "import autograd.numpy as np\n",
    "import pandas as pd\n",
    "import autograd as ag\n",
    "import os\n",
    "from tqdm.notebook import tqdm"
   ]
  },
  {
   "cell_type": "markdown",
   "metadata": {},
   "source": [
    "# 8D process"
   ]
  },
  {
   "cell_type": "code",
   "execution_count": 11,
   "metadata": {},
   "outputs": [],
   "source": [
    "nInputDim = 8 # Latent parameters\n",
    "nOutputDim = 1 # Regression output\n",
    "\n",
    "# Latent params will be sampled from unifrom prior\n",
    "latent_priorMin = -0.5\n",
    "latent_priorMax = 0.5 \n",
    "\n",
    "# Input data X priors\n",
    "XDIM = 2 # 2D input data matrix (plus constant)\n",
    "X_priorMean = 0\n",
    "X_priorScale = 1\n",
    "\n",
    "# Other parmeters\n",
    "alpha = 0.1\n",
    "beta = 0.2 # eta in report"
   ]
  },
  {
   "cell_type": "code",
   "execution_count": 12,
   "metadata": {},
   "outputs": [],
   "source": [
    "# 8D non-linear regression function\n",
    "def modelAlg(inputs, X, alpha, beta):\n",
    "    \n",
    "    assert X.shape[0] == XDIM + 1 and inputs.shape[0] == nInputDim\n",
    "    \n",
    "    # Non-linear regression model\n",
    "    c = inputs[0] * X[0]\n",
    "    s1 = inputs[1] * np.exp(inputs[2] * (X[1] - alpha))\n",
    "    s2 = inputs[3] * np.exp(inputs[4] * (X[2] - beta))\n",
    "    y = inputs[5] * s1 + inputs[6] * s2 + inputs[7]\n",
    "\n",
    "    return y\n"
   ]
  },
  {
   "cell_type": "code",
   "execution_count": 13,
   "metadata": {},
   "outputs": [],
   "source": [
    "modelAlg_agrad = ag.elementwise_grad(modelAlg)"
   ]
  },
  {
   "cell_type": "code",
   "execution_count": 15,
   "metadata": {},
   "outputs": [],
   "source": [
    "def gen_dataset(n):\n",
    "    priorSamples_latent = np.random.uniform(latent_priorMin, latent_priorMax, (n, nInputDim))\n",
    "    X_samples = np.random.normal(loc=X_priorMean, scale=X_priorScale, size=(n, XDIM))\n",
    "    \n",
    "    # Add constant to X samples\n",
    "    X_samples_c = np.zeros((n, XDIM+1))\n",
    "    X_samples_c[:, 0] = 1\n",
    "    X_samples_c[:, 1:] = X_samples\n",
    "    \n",
    "    synOutputData = pd.DataFrame(index=range(n), columns=range(nOutputDim))\n",
    "    synOutputData_grad = pd.DataFrame(index=range(n), columns=range(nInputDim))\n",
    "    \n",
    "    for s in range(n):\n",
    "        synOutputData.iloc[s, :] = modelAlg(priorSamples_latent[s, :], X_samples_c[s, :], alpha, beta)\n",
    "        synOutputData_grad.iloc[s, :] = modelAlg_agrad(priorSamples_latent[s, :], X_samples_c[s, :], alpha, beta)\n",
    "    \n",
    "    \n",
    "    \n",
    "    return pd.DataFrame(priorSamples_latent), pd.DataFrame(X_samples_c), synOutputData, synOutputData_grad"
   ]
  },
  {
   "cell_type": "code",
   "execution_count": 19,
   "metadata": {},
   "outputs": [],
   "source": [
    "x_train_latent, x_train_X, y_train, y_train_grad = gen_dataset(20000)\n",
    "x_test_latent, x_test_X, y_test, y_test_grad = gen_dataset(1000)"
   ]
  },
  {
   "cell_type": "code",
   "execution_count": 20,
   "metadata": {},
   "outputs": [],
   "source": [
    "#os.makedirs('data')\n",
    "# Save data\n",
    "# x_train_latent.to_csv('data/x_train_latent.csv')\n",
    "# x_train_X.to_csv('data/x_train_X.csv')\n",
    "# y_train.to_csv('data/y_train.csv')\n",
    "# y_train_grad.to_csv('data/y_train_grad.csv')\n",
    "\n",
    "# x_test_latent.to_csv('data/x_test_latent.csv')\n",
    "# x_test_X.to_csv('data/x_test_X.csv')\n",
    "# y_test.to_csv('data/y_test.csv')\n",
    "# y_test_grad.to_csv('data/y_test_grad.csv')"
   ]
  }
 ],
 "metadata": {
  "kernelspec": {
   "display_name": "Python 3",
   "language": "python",
   "name": "python3"
  },
  "language_info": {
   "codemirror_mode": {
    "name": "ipython",
    "version": 3
   },
   "file_extension": ".py",
   "mimetype": "text/x-python",
   "name": "python",
   "nbconvert_exporter": "python",
   "pygments_lexer": "ipython3",
   "version": "3.8.5"
  },
  "toc": {
   "base_numbering": 1,
   "nav_menu": {},
   "number_sections": true,
   "sideBar": true,
   "skip_h1_title": false,
   "title_cell": "Table of Contents",
   "title_sidebar": "Contents",
   "toc_cell": false,
   "toc_position": {},
   "toc_section_display": true,
   "toc_window_display": false
  }
 },
 "nbformat": 4,
 "nbformat_minor": 4
}
