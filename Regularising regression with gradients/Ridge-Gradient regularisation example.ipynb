{
 "cells": [
  {
   "cell_type": "markdown",
   "metadata": {},
   "source": [
    "# Regularising linear regression using the ridge-gradient method"
   ]
  },
  {
   "cell_type": "markdown",
   "metadata": {},
   "source": [
    "This notebook demonstrates how gradients can be leveraged to improve fitting linear regression models using the gradient regularisation method. "
   ]
  },
  {
   "cell_type": "code",
   "execution_count": 22,
   "metadata": {},
   "outputs": [],
   "source": [
    "import autograd.numpy as np\n",
    "import matplotlib.pyplot as plt\n",
    "from scipy import stats, spatial\n",
    "import autograd as ag\n",
    "from tqdm.notebook import tqdm\n",
    "\n",
    "np.random.seed(0)"
   ]
  },
  {
   "cell_type": "markdown",
   "metadata": {},
   "source": [
    "## Generating synthetic data\n",
    "\n",
    "Synthetic data is generated over the interval $0 \\leq x \\leq 2 \\pi$ using the function $y = sin(x) + \\epsilon$ where $\\epsilon \\sim N(0, \\sigma)$ and $\\sigma = 0.1$.\n",
    "\n",
    "A training, validation and test set are generated."
   ]
  },
  {
   "cell_type": "code",
   "execution_count": 23,
   "metadata": {},
   "outputs": [],
   "source": [
    "nTrain = 12 \n",
    "nVal = 50\n",
    "nTest = 100\n",
    "noiseStd = 0.1\n",
    "xmin = 0\n",
    "xmax = 2.5 * np.pi\n",
    "LAM = 0.01\n",
    "func = lambda x, n: np.sin(x) + stats.norm.rvs(size=(n, 1), scale=noiseStd)\n",
    "func_noNoise = lambda x: np.sin(x)\n",
    "func_grad = ag.elementwise_grad(func)"
   ]
  },
  {
   "cell_type": "code",
   "execution_count": 71,
   "metadata": {},
   "outputs": [
    {
     "data": {
      "image/png": "[encoded data removed]",
      "text/plain": [
       "<Figure size 432x288 with 1 Axes>"
      ]
     },
     "metadata": {
      "needs_background": "light"
     },
     "output_type": "display_data"
    }
   ],
   "source": [
    "x_train = np.random.uniform(xmin, xmax, nTrain).reshape((nTrain, 1))\n",
    "x_val = np.random.uniform(xmin, xmax, nVal).reshape((nVal, 1))\n",
    "x_test = np.linspace(xmin, xmax, nTest).reshape((nTest, 1))\n",
    "y_train = func(x_train, nTrain)\n",
    "y_val = func(x_val, nVal)\n",
    "y_test = func_noNoise(x_test)\n",
    "\n",
    "y_train_grad = func_grad(x_train, nTrain) # Gradients are collected for improved regularisation\n",
    "y_val_grad = func_grad(x_val, nVal)\n",
    "\n",
    "plt.scatter(x_train, y_train);\n",
    "plt.title('Training data');\n",
    "ax = plt.gca()\n",
    "ax.set_xlabel('x_train')\n",
    "ax.set_ylabel('y_train');"
   ]
  },
  {
   "cell_type": "markdown",
   "metadata": {},
   "source": [
    "### Transform 1D training data in to higher dimensions using radial basis functions\n",
    "\n",
    "In order to fit non-linear data with a linear regression model the 1-dimensional input data, $x$, is transformed in to an 8 dimensional input, denoted $\\Phi(X)$ using 7 radial basis functions centered at even intervals in the range $[0, 2 \\pi]$. A constant term term is also added."
   ]
  },
  {
   "cell_type": "code",
   "execution_count": 72,
   "metadata": {},
   "outputs": [],
   "source": [
    "no_basis = 7\n",
    "centers = np.linspace(xmin, xmax, no_basis).reshape(no_basis, 1)"
   ]
  },
  {
   "cell_type": "code",
   "execution_count": 73,
   "metadata": {},
   "outputs": [],
   "source": [
    "# Transform X with RBFs\n",
    "def trans(X, r=1):\n",
    "    N = len(X)\n",
    "    PHI = np.exp(-spatial.distance.cdist(X, centers, metric=\"sqeuclidean\")\n",
    "                 / (r**2))\n",
    "    PHI = np.hstack((np.ones((N, 1)), PHI)) # Add constant\n",
    "    return PHI"
   ]
  },
  {
   "cell_type": "code",
   "execution_count": 74,
   "metadata": {},
   "outputs": [],
   "source": [
    "PHI_train = trans(x_train)\n",
    "PHI_val = trans(x_val)\n",
    "PHI_test = trans(x_test)"
   ]
  },
  {
   "cell_type": "markdown",
   "metadata": {},
   "source": [
    "## Fit standard OLS regression with ridge regularisation\n",
    "\n",
    "Standard OLS regression with ridge regularisation is fit to the data to set baseline accuracy."
   ]
  },
  {
   "cell_type": "code",
   "execution_count": 75,
   "metadata": {},
   "outputs": [],
   "source": [
    "def rmse(y, pred):\n",
    "    \"\"\" Root mean squared error function to evaluate model performance.\n",
    "    \"\"\"\n",
    "    return (sum((y - pred)** 2) / len(y)) ** 0.5"
   ]
  },
  {
   "cell_type": "code",
   "execution_count": 77,
   "metadata": {},
   "outputs": [],
   "source": [
    "def fit_OLS(PHI, y, lam):\n",
    "    \"\"\" Set optimal coefficients using ridge OLS solution.\n",
    "    \"\"\"\n",
    "    w = np.linalg.solve(\n",
    "        (PHI.T @ PHI +\n",
    "         lam *\n",
    "         np.eye(\n",
    "             PHI.shape[1])),\n",
    "        PHI.T @ y)\n",
    "    return w"
   ]
  },
  {
   "cell_type": "code",
   "execution_count": 78,
   "metadata": {},
   "outputs": [],
   "source": [
    "def fit_ridge_OLS(x_train, y_train, x_val, y_val, nLam=100):\n",
    "    \"\"\" Using validation set, use brute force to determine optimal regularisation parameter lambda.\n",
    "    \"\"\"\n",
    "    lams = np.linspace(0, 10, nLam)\n",
    "    opt_lam = 0\n",
    "    opt_rmse = y_val.std()\n",
    "    opt_w = None\n",
    "    for i in range(nLam):\n",
    "        w = fit_OLS(x_train, y_train, lams[i])\n",
    "        pred = x_val @ w\n",
    "        acc = rmse(pred.flatten(), y_val.flatten())\n",
    "        if acc < opt_rmse:\n",
    "            opt_lam = lams[i]\n",
    "            opt_rmse = acc\n",
    "            opt_w = w\n",
    "    return opt_w, opt_lam"
   ]
  },
  {
   "cell_type": "code",
   "execution_count": 79,
   "metadata": {},
   "outputs": [],
   "source": [
    "beta_std, lam_opt = fit_ridge_OLS(PHI_train, y_train, PHI_val, y_val)"
   ]
  },
  {
   "cell_type": "code",
   "execution_count": 80,
   "metadata": {},
   "outputs": [],
   "source": [
    "y_pred_test = PHI_test @ beta_std\n",
    "y_pred_train = PHI_train @ beta_std"
   ]
  },
  {
   "cell_type": "code",
   "execution_count": 81,
   "metadata": {},
   "outputs": [
    {
     "name": "stdout",
     "output_type": "stream",
     "text": [
      "Optimal lambda: 0.00\n",
      "Test RMSE: 0.05\n",
      "y_test std: 0.69\n"
     ]
    },
    {
     "data": {
      "image/png": "[encoded data removed]",
      "text/plain": [
       "<Figure size 432x288 with 1 Axes>"
      ]
     },
     "metadata": {
      "needs_background": "light"
     },
     "output_type": "display_data"
    }
   ],
   "source": [
    "print(f'Optimal lambda: {lam_opt:.02f}')\n",
    "print(f'Test RMSE: {rmse(y_pred_test.flatten(), y_test.flatten()):.02f}')\n",
    "print(f'y_test std: {y_test.std():.02f}')\n",
    "\n",
    "plt.plot(x_test, y_pred_test, label='pred_test')\n",
    "plt.scatter(x_train, y_pred_train, label='pred_train', marker='x', c='g')\n",
    "plt.plot(x_test, y_test, label='true')\n",
    "plt.scatter(x_train, y_train, label='training')\n",
    "plt.legend();"
   ]
  },
  {
   "cell_type": "markdown",
   "metadata": {},
   "source": [
    "## Introducing gradients\n",
    "\n",
    "We now demonstrate how the gradients of the function output with respect to its inputs $\\nabla_x y = \\frac{\\delta y}{\\delta x}$ can be incorporated in to the regularising term to improve model accuracy.\n",
    "\n",
    "The linear model is:\n",
    "\n",
    "$$\n",
    "\\hat{y} = \\boldsymbol{\\hat{\\beta}} \\ \\boldsymbol{\\Phi(x)} \\\\\n",
    "\\hat{y} = \\hat{\\beta_0} + \\hat{\\beta_1} \\ \\exp \\left \\{ \\frac{-(x - c_1)^2}{r^2} \\right \\} + ... + \\hat{\\beta_8} \\exp \\left \\{  \\frac{-(x - c_7)^2}{r^2}\\right \\}\n",
    "$$ \n",
    "\n",
    "$\\boldsymbol{\\hat{\\beta}}$ is computed using OLS to minimise $(y - \\hat{y})^2$ (with ridge regularisation), however we can also compute a coefficient vector to minimise $(\\nabla_x y - \\nabla_x \\hat{y})^2$, denoted $\\boldsymbol{\\hat{\\beta}_{grad}}$. \n",
    "\n",
    "As we have calculated and retained $\\nabla_x y$, we can use OLS (again with ridge regularisation) to find $\\boldsymbol{\\hat{\\beta}_{grad}}$. The resulting 'gradient' fitting model takes the form:\n",
    "\n",
    "$$\n",
    "\\frac{\\delta \\hat{y}}{\\delta x} = \\hat{\\beta_0}_{grad} + \\hat{\\beta_1}_{grad} \\frac{-2(x - c_1)^2}{r^2} \\exp \\left \\{ \\frac{-(x - c_1)^2}{r^2} \\right \\} + ... + \\hat{\\beta_8}_{grad} \\frac{-2(x - c_7)^2}{r^2} \\exp \\left \\{ \\frac{-(x - c_7)^2}{r^2} \\right \\}\n",
    "$$\n",
    "\n",
    "The key to understanding to following improved regularisation method is recognising that the fitted coefficients $\\boldsymbol{\\hat{\\beta}}$ should accurately fit both $y$ and $\\nabla_x y$ - the data and its gradient - and therefore the difference between $\\boldsymbol{\\hat{\\beta}}$ and $\\boldsymbol{\\hat{\\beta}_{grad}}$ should be minimal.\n",
    "\n",
    "This motivates the ridge-gradient ($\\boldsymbol{\\hat{\\beta}_{rg}}$) OLS solution:\n",
    "\n",
    "$$\n",
    "\\min_{\\hat{\\boldsymbol{\\beta}}} \\ \\ (y - \\hat{y})^2 + \\lambda_1 \\hat{\\boldsymbol{\\beta}}^2 + \\lambda_2 (\\boldsymbol{\\hat{\\beta}} - \\boldsymbol{\\hat{\\beta}_{grad}})^2\n",
    "$$\n",
    "\n",
    "$$\n",
    "\\boldsymbol{\\hat{\\beta}_{rg}} = (X'X + \\lambda_1 I + \\lambda_2 I)^{-1} (\\lambda_2 \\ \\boldsymbol{\\hat{\\beta}_{grad}} + X'y)\n",
    "$$"
   ]
  },
  {
   "cell_type": "markdown",
   "metadata": {},
   "source": [
    "We first calculate the derivative inputs to be fit to $\\nabla_x y$:\n",
    "\n",
    "$$\n",
    "constant, \\frac{-2(x - c_1)^2}{r^2} \\exp \\left \\{ \\frac{-(x - c_1)^2}{r^2} \\right \\}, \\ \\frac{-2(x - c_2)^2}{r^2} \\exp \\left \\{ \\frac{-(x - c_2)^2}{r^2} \\right \\},..., \\frac{-2(x - c_7)^2}{r^2} \\exp \\left \\{ \\frac{-(x - c_7)^2}{r^2} \\right \\}\n",
    "$$"
   ]
  },
  {
   "cell_type": "code",
   "execution_count": 34,
   "metadata": {},
   "outputs": [],
   "source": [
    "PHI_train_grad = np.zeros((nTrain, no_basis+1))\n",
    "PHI_val_grad = np.zeros((nVal, no_basis+1))\n",
    "PHI_test_grad = np.zeros((nTest, no_basis+1))\n",
    "for c in range(no_basis+1): \n",
    "    if c == 0: # Retain bias term\n",
    "        PHI_train_grad[:, c] = np.ones(nTrain)\n",
    "        PHI_test_grad[:, c] = np.ones(nTest)\n",
    "        PHI_val_grad[:, c] = np.ones(nVal)\n",
    "    else: \n",
    "        PHI_train_grad[:, c] = (np.exp(-(x_train - centers[c-1]) ** 2) * (-2 * (x_train - centers[c-1]))).flatten()\n",
    "        PHI_test_grad[:, c] = (np.exp(-(x_test - centers[c-1]) ** 2) * (-2 * (x_test - centers[c-1]))).flatten()\n",
    "        PHI_val_grad[:, c] = (np.exp(-(x_val - centers[c-1]) ** 2) * (-2 * (x_val - centers[c-1]))).flatten()"
   ]
  },
  {
   "cell_type": "markdown",
   "metadata": {},
   "source": [
    "Next we fit $\\boldsymbol{\\hat{\\beta}_{grad}}$ using ridge OLS."
   ]
  },
  {
   "cell_type": "code",
   "execution_count": 35,
   "metadata": {},
   "outputs": [
    {
     "name": "stdout",
     "output_type": "stream",
     "text": [
      "Optimal lambda: 0.10\n"
     ]
    }
   ],
   "source": [
    "beta_grad, opt_lam_grad = fit_ridge_OLS(PHI_train_grad, y_train_grad, PHI_val_grad, y_val_grad)\n",
    "print(f'Optimal lambda: {opt_lam_grad:.02f}')"
   ]
  },
  {
   "cell_type": "markdown",
   "metadata": {},
   "source": [
    "We can check that $\\boldsymbol{\\hat{\\beta}_{grad}}$ fits the gradients of the test data better than $\\boldsymbol{\\hat{\\beta}}$."
   ]
  },
  {
   "cell_type": "code",
   "execution_count": 36,
   "metadata": {},
   "outputs": [
    {
     "name": "stdout",
     "output_type": "stream",
     "text": [
      "Standard beta test RMSE: 0.40\n",
      "Beta_grad test RMSE: 0.37\n"
     ]
    },
    {
     "data": {
      "image/png": "[encoded data removed]",
      "text/plain": [
       "<Figure size 432x288 with 1 Axes>"
      ]
     },
     "metadata": {
      "needs_background": "light"
     },
     "output_type": "display_data"
    }
   ],
   "source": [
    "grad_pred_OLS_fit = PHI_test_grad @ beta_grad\n",
    "grad_pred_std = PHI_test_grad @ beta_std\n",
    "\n",
    "print(f'Standard beta test RMSE: {rmse(grad_pred_std.flatten(), np.cos(x_test).flatten()):.02f}')\n",
    "print(f'Beta_grad test RMSE: {rmse(grad_pred_OLS_fit.flatten(), np.cos(x_test).flatten()):.02f}')\n",
    "\n",
    "plt.plot(x_test, grad_pred_OLS_fit, label='fitted_grad', c='r')\n",
    "plt.plot(x_test, grad_pred_std, label='std_grad', c='g')\n",
    "plt.plot(x_test, np.cos(x_test), label='true_grad', c='b', linestyle=':')\n",
    "plt.title('Gradient fit')\n",
    "ax = plt.gca()\n",
    "ax.set_xlabel('x_test')\n",
    "ax.set_ylabel('y_test_grad')\n",
    "plt.legend();"
   ]
  },
  {
   "cell_type": "markdown",
   "metadata": {},
   "source": [
    "$\\boldsymbol{\\hat{\\beta}_{rg}}$ can now be calculated as follows:"
   ]
  },
  {
   "cell_type": "code",
   "execution_count": 37,
   "metadata": {},
   "outputs": [],
   "source": [
    "def brute_force_grad(x_train, y_train, x_val, y_val, beta_grad, nLam=100):\n",
    "    lams1 = np.linspace(0, 10, nLam)\n",
    "    lams2 = np.linspace(0, 10, nLam)\n",
    "    opt_lam1 = 0\n",
    "    opt_lam2 = 0\n",
    "    opt_rmse = y_val.std() + 1\n",
    "    opt_beta_rg = None\n",
    "    for i in range(nLam):\n",
    "        for j in range(nLam):\n",
    "                beta_rg = np.linalg.solve(\n",
    "                (PHI_train.T @ PHI_train +\n",
    "                 lams1[i] *\n",
    "                 np.eye(\n",
    "                     PHI_train.shape[1]) + lams2[i] * np.eye(\n",
    "                     PHI_train.shape[1])),\n",
    "                lams1[i] * beta_grad.reshape((len(beta_grad), 1)) + (PHI_train.T @ y_train))\n",
    "                pred = x_val @ beta_rg\n",
    "                acc = rmse(pred.flatten(), y_val.flatten())\n",
    "                if acc < opt_rmse:\n",
    "                    opt_lam1 = lams1[i]\n",
    "                    opt_lam2 = lams2[i]\n",
    "                    opt_rmse = acc\n",
    "                    opt_beta_rg = beta_rg\n",
    "    return opt_beta_rg, opt_lam1, opt_lam2"
   ]
  },
  {
   "cell_type": "code",
   "execution_count": 38,
   "metadata": {},
   "outputs": [
    {
     "name": "stdout",
     "output_type": "stream",
     "text": [
      "Optimal lambda 1: 0.10\n",
      "Optimal lambda 2: 0.10\n"
     ]
    }
   ],
   "source": [
    "beta_rg, lam1, lam2 = brute_force_grad(PHI_train, y_train, PHI_val, y_val, beta_grad)\n",
    "print(f'Optimal lambda 1: {lam1:.02f}')\n",
    "print(f'Optimal lambda 2: {lam2:.02f}')"
   ]
  },
  {
   "cell_type": "code",
   "execution_count": 39,
   "metadata": {},
   "outputs": [],
   "source": [
    "y_pred_test_rg = PHI_test @ beta_rg\n",
    "y_pred_train_rg = PHI_train @ beta_rg"
   ]
  },
  {
   "cell_type": "code",
   "execution_count": 40,
   "metadata": {},
   "outputs": [
    {
     "name": "stdout",
     "output_type": "stream",
     "text": [
      "Standard beta test RMSE: 0.35\n",
      "Beta_rg test RMSE: 0.31\n"
     ]
    },
    {
     "data": {
      "image/png": "[encoded data removed]",
      "text/plain": [
       "<Figure size 432x288 with 1 Axes>"
      ]
     },
     "metadata": {
      "needs_background": "light"
     },
     "output_type": "display_data"
    }
   ],
   "source": [
    "print(f'Standard beta test RMSE: {rmse(y_pred_test.flatten(), y_test.flatten()):.02f}')\n",
    "print(f'Beta_rg test RMSE: {rmse(y_pred_test_rg.flatten(), y_test.flatten()):.02f}')\n",
    "\n",
    "\n",
    "#plt.figure(figsize=(20,10))\n",
    "plt.plot(x_test, y_pred_test, label='pred_test_std', c='g')\n",
    "plt.plot(x_test, y_pred_test_rg, label='pred_test_rg', c='r');\n",
    "#plt.scatter(x_train, y_pred_new_train, label='pred_train_new', c='r', marker='+');\n",
    "#plt.scatter(x_train, y_pred_train, label='pred_train', marker='x', c='g')\n",
    "plt.plot(x_test, y_test, label='true')\n",
    "plt.scatter(x_train, y_train, label='training', marker='x')\n",
    "plt.legend();"
   ]
  },
  {
   "cell_type": "markdown",
   "metadata": {},
   "source": [
    "## Verifying results\n",
    "\n",
    "The following code validates the above results using 50 runs of random training data over varying sizes of training data.\n",
    "\n",
    "**NOTE: Runtime is approximately 12 minutes**"
   ]
  },
  {
   "cell_type": "code",
   "execution_count": 50,
   "metadata": {
    "scrolled": true
   },
   "outputs": [
    {
     "data": {
      "application/vnd.jupyter.widget-view+json": {
       "model_id": "822ef31aca5e498d8e5570bc1d4d2ea8",
       "version_major": 2,
       "version_minor": 0
      },
      "text/plain": [
       "HBox(children=(HTML(value=''), FloatProgress(value=0.0, max=21.0), HTML(value='')))"
      ]
     },
     "metadata": {},
     "output_type": "display_data"
    },
    {
     "data": {
      "application/vnd.jupyter.widget-view+json": {
       "model_id": "dc46485fbede4ea1ae959006479887ec",
       "version_major": 2,
       "version_minor": 0
      },
      "text/plain": [
       "HBox(children=(HTML(value=''), FloatProgress(value=0.0, max=50.0), HTML(value='')))"
      ]
     },
     "metadata": {},
     "output_type": "display_data"
    },
    {
     "name": "stdout",
     "output_type": "stream",
     "text": [
      "\n"
     ]
    },
    {
     "data": {
      "application/vnd.jupyter.widget-view+json": {
       "model_id": "da37482d8eb644758c1bda2685244802",
       "version_major": 2,
       "version_minor": 0
      },
      "text/plain": [
       "HBox(children=(HTML(value=''), FloatProgress(value=0.0, max=50.0), HTML(value='')))"
      ]
     },
     "metadata": {},
     "output_type": "display_data"
    },
    {
     "name": "stdout",
     "output_type": "stream",
     "text": [
      "\n"
     ]
    },
    {
     "data": {
      "application/vnd.jupyter.widget-view+json": {
       "model_id": "d525604a1de3455da88c75f974d8ab2f",
       "version_major": 2,
       "version_minor": 0
      },
      "text/plain": [
       "HBox(children=(HTML(value=''), FloatProgress(value=0.0, max=50.0), HTML(value='')))"
      ]
     },
     "metadata": {},
     "output_type": "display_data"
    },
    {
     "name": "stdout",
     "output_type": "stream",
     "text": [
      "\n"
     ]
    },
    {
     "data": {
      "application/vnd.jupyter.widget-view+json": {
       "model_id": "c0099b6503b6495aae9bdd7369c8c96d",
       "version_major": 2,
       "version_minor": 0
      },
      "text/plain": [
       "HBox(children=(HTML(value=''), FloatProgress(value=0.0, max=50.0), HTML(value='')))"
      ]
     },
     "metadata": {},
     "output_type": "display_data"
    },
    {
     "name": "stdout",
     "output_type": "stream",
     "text": [
      "\n"
     ]
    },
    {
     "data": {
      "application/vnd.jupyter.widget-view+json": {
       "model_id": "09a74afbb2ce4dcd9d44f237981a0b92",
       "version_major": 2,
       "version_minor": 0
      },
      "text/plain": [
       "HBox(children=(HTML(value=''), FloatProgress(value=0.0, max=50.0), HTML(value='')))"
      ]
     },
     "metadata": {},
     "output_type": "display_data"
    },
    {
     "name": "stdout",
     "output_type": "stream",
     "text": [
      "\n"
     ]
    },
    {
     "data": {
      "application/vnd.jupyter.widget-view+json": {
       "model_id": "d18e03bb01294a29b6cff3614fa79eea",
       "version_major": 2,
       "version_minor": 0
      },
      "text/plain": [
       "HBox(children=(HTML(value=''), FloatProgress(value=0.0, max=50.0), HTML(value='')))"
      ]
     },
     "metadata": {},
     "output_type": "display_data"
    },
    {
     "name": "stdout",
     "output_type": "stream",
     "text": [
      "\n"
     ]
    },
    {
     "data": {
      "application/vnd.jupyter.widget-view+json": {
       "model_id": "ba1bd06eda2c43cca3171f8a66dfa504",
       "version_major": 2,
       "version_minor": 0
      },
      "text/plain": [
       "HBox(children=(HTML(value=''), FloatProgress(value=0.0, max=50.0), HTML(value='')))"
      ]
     },
     "metadata": {},
     "output_type": "display_data"
    },
    {
     "name": "stdout",
     "output_type": "stream",
     "text": [
      "\n"
     ]
    },
    {
     "data": {
      "application/vnd.jupyter.widget-view+json": {
       "model_id": "99644672e9344cf3952cacf1246633fe",
       "version_major": 2,
       "version_minor": 0
      },
      "text/plain": [
       "HBox(children=(HTML(value=''), FloatProgress(value=0.0, max=50.0), HTML(value='')))"
      ]
     },
     "metadata": {},
     "output_type": "display_data"
    },
    {
     "name": "stdout",
     "output_type": "stream",
     "text": [
      "\n"
     ]
    },
    {
     "data": {
      "application/vnd.jupyter.widget-view+json": {
       "model_id": "c6eb56e050844348b7ee4c4dc83740ff",
       "version_major": 2,
       "version_minor": 0
      },
      "text/plain": [
       "HBox(children=(HTML(value=''), FloatProgress(value=0.0, max=50.0), HTML(value='')))"
      ]
     },
     "metadata": {},
     "output_type": "display_data"
    },
    {
     "name": "stdout",
     "output_type": "stream",
     "text": [
      "\n"
     ]
    },
    {
     "data": {
      "application/vnd.jupyter.widget-view+json": {
       "model_id": "b9de187d675840acb66c61104384ed67",
       "version_major": 2,
       "version_minor": 0
      },
      "text/plain": [
       "HBox(children=(HTML(value=''), FloatProgress(value=0.0, max=50.0), HTML(value='')))"
      ]
     },
     "metadata": {},
     "output_type": "display_data"
    },
    {
     "name": "stdout",
     "output_type": "stream",
     "text": [
      "\n"
     ]
    },
    {
     "data": {
      "application/vnd.jupyter.widget-view+json": {
       "model_id": "8a95e18a3b464c48a6b8fe0fe5eb053f",
       "version_major": 2,
       "version_minor": 0
      },
      "text/plain": [
       "HBox(children=(HTML(value=''), FloatProgress(value=0.0, max=50.0), HTML(value='')))"
      ]
     },
     "metadata": {},
     "output_type": "display_data"
    },
    {
     "name": "stdout",
     "output_type": "stream",
     "text": [
      "\n"
     ]
    },
    {
     "data": {
      "application/vnd.jupyter.widget-view+json": {
       "model_id": "f723a3c14f274ee3b2338ca74df02e49",
       "version_major": 2,
       "version_minor": 0
      },
      "text/plain": [
       "HBox(children=(HTML(value=''), FloatProgress(value=0.0, max=50.0), HTML(value='')))"
      ]
     },
     "metadata": {},
     "output_type": "display_data"
    },
    {
     "name": "stdout",
     "output_type": "stream",
     "text": [
      "\n"
     ]
    },
    {
     "data": {
      "application/vnd.jupyter.widget-view+json": {
       "model_id": "9d9e18384451499cbda7c2749fe1b570",
       "version_major": 2,
       "version_minor": 0
      },
      "text/plain": [
       "HBox(children=(HTML(value=''), FloatProgress(value=0.0, max=50.0), HTML(value='')))"
      ]
     },
     "metadata": {},
     "output_type": "display_data"
    },
    {
     "name": "stdout",
     "output_type": "stream",
     "text": [
      "\n"
     ]
    },
    {
     "data": {
      "application/vnd.jupyter.widget-view+json": {
       "model_id": "61642ea07dfd43639583649dc4f915b4",
       "version_major": 2,
       "version_minor": 0
      },
      "text/plain": [
       "HBox(children=(HTML(value=''), FloatProgress(value=0.0, max=50.0), HTML(value='')))"
      ]
     },
     "metadata": {},
     "output_type": "display_data"
    },
    {
     "name": "stdout",
     "output_type": "stream",
     "text": [
      "\n"
     ]
    },
    {
     "data": {
      "application/vnd.jupyter.widget-view+json": {
       "model_id": "e009d074c4c94ca296e451175d2f1ecd",
       "version_major": 2,
       "version_minor": 0
      },
      "text/plain": [
       "HBox(children=(HTML(value=''), FloatProgress(value=0.0, max=50.0), HTML(value='')))"
      ]
     },
     "metadata": {},
     "output_type": "display_data"
    },
    {
     "name": "stdout",
     "output_type": "stream",
     "text": [
      "\n"
     ]
    },
    {
     "data": {
      "application/vnd.jupyter.widget-view+json": {
       "model_id": "a43155b8c7724a3abb10943ecc410e0b",
       "version_major": 2,
       "version_minor": 0
      },
      "text/plain": [
       "HBox(children=(HTML(value=''), FloatProgress(value=0.0, max=50.0), HTML(value='')))"
      ]
     },
     "metadata": {},
     "output_type": "display_data"
    },
    {
     "name": "stdout",
     "output_type": "stream",
     "text": [
      "\n"
     ]
    },
    {
     "data": {
      "application/vnd.jupyter.widget-view+json": {
       "model_id": "41d728cc75e64e13b87e3d7ef7e9e39d",
       "version_major": 2,
       "version_minor": 0
      },
      "text/plain": [
       "HBox(children=(HTML(value=''), FloatProgress(value=0.0, max=50.0), HTML(value='')))"
      ]
     },
     "metadata": {},
     "output_type": "display_data"
    },
    {
     "name": "stdout",
     "output_type": "stream",
     "text": [
      "\n"
     ]
    },
    {
     "data": {
      "application/vnd.jupyter.widget-view+json": {
       "model_id": "14166c11b04046bcae726dd7e77f6e50",
       "version_major": 2,
       "version_minor": 0
      },
      "text/plain": [
       "HBox(children=(HTML(value=''), FloatProgress(value=0.0, max=50.0), HTML(value='')))"
      ]
     },
     "metadata": {},
     "output_type": "display_data"
    },
    {
     "name": "stdout",
     "output_type": "stream",
     "text": [
      "\n"
     ]
    },
    {
     "data": {
      "application/vnd.jupyter.widget-view+json": {
       "model_id": "08299a62364749659b768a4ee83c74c9",
       "version_major": 2,
       "version_minor": 0
      },
      "text/plain": [
       "HBox(children=(HTML(value=''), FloatProgress(value=0.0, max=50.0), HTML(value='')))"
      ]
     },
     "metadata": {},
     "output_type": "display_data"
    },
    {
     "name": "stdout",
     "output_type": "stream",
     "text": [
      "\n"
     ]
    },
    {
     "data": {
      "application/vnd.jupyter.widget-view+json": {
       "model_id": "f64ed21818f348198ee18a9c8eeac673",
       "version_major": 2,
       "version_minor": 0
      },
      "text/plain": [
       "HBox(children=(HTML(value=''), FloatProgress(value=0.0, max=50.0), HTML(value='')))"
      ]
     },
     "metadata": {},
     "output_type": "display_data"
    },
    {
     "name": "stdout",
     "output_type": "stream",
     "text": [
      "\n"
     ]
    },
    {
     "data": {
      "application/vnd.jupyter.widget-view+json": {
       "model_id": "64096bd8922f4c2380f030e51b8442a2",
       "version_major": 2,
       "version_minor": 0
      },
      "text/plain": [
       "HBox(children=(HTML(value=''), FloatProgress(value=0.0, max=50.0), HTML(value='')))"
      ]
     },
     "metadata": {},
     "output_type": "display_data"
    },
    {
     "name": "stdout",
     "output_type": "stream",
     "text": [
      "\n",
      "\n",
      "CPU times: user 12min 25s, sys: 52.7 s, total: 13min 17s\n",
      "Wall time: 12min 45s\n"
     ]
    }
   ],
   "source": [
    "%%time\n",
    "\n",
    "nRuns = 50\n",
    "n_Lams = 50\n",
    "Ntrain_samples = [10, 12, 14, 16, 18, 20, 22, 24, 26, 28, 30, 32, 34, 36, 38, 40, 42, 44, 46, 48, 50]\n",
    "grad_means = []\n",
    "std_means = []\n",
    "for ntrain in tqdm(Ntrain_samples):\n",
    "    std_rmses = []\n",
    "    grad_rmses = []\n",
    "    nTrain = ntrain\n",
    "    for _ in tqdm(range(nRuns)):\n",
    "        \n",
    "        # Generate fresh batch of training, validation and test data\n",
    "        x_train = np.random.uniform(xmin, xmax, nTrain).reshape((nTrain, 1))\n",
    "        x_val = np.random.uniform(xmin, xmax, nVal).reshape((nVal, 1))\n",
    "        x_test = np.linspace(xmin, xmax, nTest).reshape((nTest, 1))\n",
    "        y_train = func(x_train, nTrain)\n",
    "        y_val = func(x_val, nVal)\n",
    "        y_test = func_noNoise(x_test)\n",
    "        y_train_grad = func_grad(x_train, nTrain)\n",
    "        y_val_grad = func_grad(x_val, nVal)\n",
    "\n",
    "        PHI_train = trans(x_train)\n",
    "        PHI_val = trans(x_val)\n",
    "        PHI_test = trans(x_test)\n",
    "\n",
    "        # Fit standard ridge OLS coefficents\n",
    "        beta_std, lam_opt = fit_ridge_OLS(PHI_train, y_train, PHI_val, y_val)\n",
    "        \n",
    "        y_pred_test = PHI_test @ beta_std\n",
    "        # Evaluate and save result\n",
    "        \n",
    "        std_rmse = rmse(y_test.flatten(), y_pred_test.flatten())\n",
    "        std_rmses.append(std_rmse)\n",
    "        \n",
    "        ## Ridge-Gradient method\n",
    "\n",
    "        # Compute derivative inputs\n",
    "        PHI_train_grad = np.zeros((nTrain, no_basis+1))\n",
    "        PHI_val_grad = np.zeros((nVal, no_basis+1))\n",
    "        PHI_test_grad = np.zeros((nTest, no_basis+1))\n",
    "        for c in range(no_basis+1):\n",
    "            if c == 0:\n",
    "                PHI_train_grad[:, c] = np.ones(nTrain)\n",
    "                PHI_test_grad[:, c] = np.ones(nTest)\n",
    "                PHI_val_grad[:, c] = np.ones(nVal)\n",
    "            else:\n",
    "                PHI_train_grad[:, c] = (np.exp(-(x_train - centers[c-1]) ** 2) * (-2 * (x_train - centers[c-1]))).flatten()\n",
    "                PHI_test_grad[:, c] = (np.exp(-(x_test - centers[c-1]) ** 2) * (-2 * (x_test - centers[c-1]))).flatten()\n",
    "                PHI_val_grad[:, c] = (np.exp(-(x_val - centers[c-1]) ** 2) * (-2 * (x_val - centers[c-1]))).flatten()\n",
    "\n",
    "        \n",
    "        # Compute beta_grad using ridge OLS\n",
    "        beta_grad, lam_opt = fit_ridge_OLS(PHI_train_grad, y_train_grad, PHI_val_grad, y_val_grad)\n",
    "        \n",
    "        # Compute beta_ridge-gradient\n",
    "        beta_rg, lam1, lam2 = brute_force_grad(PHI_train, y_train, PHI_val, y_val, beta_grad)\n",
    "\n",
    "        y_pred_test_rg = PHI_test @ beta_rg\n",
    "        grad_rmse = rmse(y_test.flatten(), y_pred_test_rg.flatten())\n",
    "        grad_rmses.append(grad_rmse)\n",
    "\n",
    "    grad_means.append(np.mean(grad_rmses))\n",
    "    std_means.append(np.mean(std_rmses))"
   ]
  },
  {
   "cell_type": "code",
   "execution_count": 88,
   "metadata": {
    "scrolled": true
   },
   "outputs": [
    {
     "data": {
      "image/png": "[encoded data removed]",
      "text/plain": [
       "<Figure size 432x288 with 1 Axes>"
      ]
     },
     "metadata": {
      "needs_background": "light"
     },
     "output_type": "display_data"
    }
   ],
   "source": [
    "plt.plot(grad_means, label=r'$\\hat{\\beta}_{rg}$')\n",
    "plt.plot(std_means, label=r'$\\hat{\\beta}_{ridge}$')\n",
    "ax = plt.gca()\n",
    "#ax.set_§aylim([0.03, 0.05])\n",
    "plt.legend();\n",
    "ax.set_xticks(range(len(Ntrain_samples)))\n",
    "ax.set_xticklabels(Ntrain_samples);\n",
    "ax.set_ylabel('Test RMSE')\n",
    "ax.set_xlabel('nTrain');\n",
    "#plt.savefig('beta_versus_betarg_rmse', facecolor='white')"
   ]
  },
  {
   "cell_type": "code",
   "execution_count": 89,
   "metadata": {},
   "outputs": [
    {
     "data": {
      "image/png": "[encoded data removed]",
      "text/plain": [
       "<Figure size 432x288 with 1 Axes>"
      ]
     },
     "metadata": {
      "needs_background": "light"
     },
     "output_type": "display_data"
    }
   ],
   "source": [
    "plt.plot((np.array(std_means)-np.array(grad_means))*100/np.array(std_means), label='% difference')\n",
    "plt.axhline(0, c='black')\n",
    "ax = plt.gca()\n",
    "ax.set_xticks(range(len(Ntrain_samples)))\n",
    "ax.set_xticklabels(Ntrain_samples);\n",
    "ax.set_ylabel('% difference')\n",
    "ax.set_xlabel('nTrain')\n",
    "plt.legend();\n",
    "#plt.savefig('beta_versus_betarg_diff', facecolor='white')"
   ]
  },
  {
   "cell_type": "code",
   "execution_count": null,
   "metadata": {},
   "outputs": [],
   "source": []
  }
 ],
 "metadata": {
  "kernelspec": {
   "display_name": "Python 3",
   "language": "python",
   "name": "python3"
  },
  "language_info": {
   "codemirror_mode": {
    "name": "ipython",
    "version": 3
   },
   "file_extension": ".py",
   "mimetype": "text/x-python",
   "name": "python",
   "nbconvert_exporter": "python",
   "pygments_lexer": "ipython3",
   "version": "3.8.5"
  },
  "toc": {
   "base_numbering": 1,
   "nav_menu": {},
   "number_sections": true,
   "sideBar": true,
   "skip_h1_title": false,
   "title_cell": "Table of Contents",
   "title_sidebar": "Contents",
   "toc_cell": false,
   "toc_position": {},
   "toc_section_display": true,
   "toc_window_display": true
  }
 },
 "nbformat": 4,
 "nbformat_minor": 4
}
